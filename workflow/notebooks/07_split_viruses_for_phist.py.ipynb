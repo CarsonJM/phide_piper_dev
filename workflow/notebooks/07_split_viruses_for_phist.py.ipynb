{
 "cells": [
  {
   "cell_type": "code",
   "execution_count": null,
   "metadata": {},
   "outputs": [],
   "source": [
    "import pandas as pd\n",
    "from Bio import SeqIO\n",
    "\n",
    "filtered_viruses = []\n",
    "\n",
    "# parse through and combine provirus sequences for each sample\n",
    "for record in SeqIO.parse(str(snakemake.input), \"fasta\"):\n",
    "\n",
    "    # save all sequences to specified file\n",
    "    SeqIO.write(record, str(snakemake.params.fasta_dir) + record.id + \".fna\", \"fasta\")\n",
    "\n",
    "output = open(str(snakemake.output), 'x')\n",
    "output.close()"
   ]
  }
 ],
 "metadata": {
  "language_info": {
   "name": "python"
  },
  "orig_nbformat": 4
 },
 "nbformat": 4,
 "nbformat_minor": 2
}
