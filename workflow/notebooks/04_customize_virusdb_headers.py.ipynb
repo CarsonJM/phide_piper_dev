{
 "cells": [
  {
   "cell_type": "code",
   "execution_count": null,
   "metadata": {},
   "outputs": [
    {
     "ename": "",
     "evalue": "",
     "output_type": "error",
     "traceback": [
      "\u001b[1;31mRunning cells with 'Python' requires ipykernel package.\n",
      "Run the following command to install 'ipykernel' into the Python environment. \n",
      "Command: 'conda install -p home\\carsonjm\\CarsonJM\\phide_piper\\.snakemake\\conda\\07928d9abcd4b3657cd857970055efba ipykernel --update-deps --force-reinstall'"
     ]
    }
   ],
   "source": [
    "\n",
    "# Biopython to parse fasta files\n",
    "from Bio import SeqIO\n",
    "# pandas is for dataframes\n",
    "import pandas as pd\n",
    "# ete3 to convert from lineage to taxid (and vice versa)\n",
    "from ete3 import NCBITaxa\n",
    "ncbi = NCBITaxa()\n",
    "# ncbi.update_taxonomy_database()\n",
    "\n",
    "### convert each taxid in metadata to a lineage ###\n",
    "# load mgv metadata\n",
    "mgv_metadata= pd.read_csv(str(snakemake.input.metadata), sep='\\t')\n",
    "mgv_metadata['ictv_family'] = mgv_metadata.apply(lambda x: x.ictv_family if x.ictv_family != 'crAss-phage' else 'uncultured crAssphage', axis = 1)\n",
    "mgv_families = list(set(mgv_metadata['ictv_family']))\n",
    "\n",
    "# convert families to taxids\n",
    "taxids = []\n",
    "for family in mgv_families[1:]:\n",
    "    taxid = ncbi.get_name_translator([family])\n",
    "    taxids.append(taxid)\n",
    "\n",
    "# flatten list of dictionaries\n",
    "taxids_dict = {}\n",
    "for dictionary in taxids:\n",
    "    taxids_dict.update(dictionary)\n",
    "\n",
    "mgv_metadata['taxid'] = mgv_metadata['ictv_family'].map(taxids_dict)\n",
    "\n",
    "#parse through fasta file\n",
    "contig_to_taxid = mgv_metadata.set_index('contig_id').to_dict()['taxid']\n",
    "new_mgv_sequences = []\n",
    "for record in SeqIO.parse(str(snakemake.input.genomes), \"fasta\"):\n",
    "    updated_id = str(contig_to_taxid[record.id]).removeprefix('[').removesuffix(']')\n",
    "    record.id = str(record.id) + '|kraken:taxid|' + updated_id\n",
    "    new_mgv_sequences.append(record)\n",
    "\n",
    "# write customized sequences out\n",
    "SeqIO.write(new_mgv_sequences, str(snakemake.output), \"fasta\")"
   ]
  }
 ],
 "metadata": {
  "kernelspec": {
   "display_name": "Python",
   "language": "python",
   "name": "python3"
  },
  "language_info": {
   "name": "python",
   "version": ""
  },
  "orig_nbformat": 4,
  "vscode": {
   "interpreter": {
    "hash": "25a19fbe0a9132dfb9279d48d161753c6352f8f9478c2e74383d340069b907c3"
   }
  }
 },
 "nbformat": 4,
 "nbformat_minor": 2
}
