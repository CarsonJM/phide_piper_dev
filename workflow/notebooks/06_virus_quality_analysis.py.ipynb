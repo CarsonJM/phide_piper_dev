{
 "cells": [
  {
   "cell_type": "code",
   "execution_count": null,
   "metadata": {},
   "outputs": [],
   "source": [
    "import pandas as pd\n",
    "from plotnine import *\n",
    "\n",
    "virus_quality = pd.read_csv(\n",
    "    str(snakemake.input)\n",
    "    # '/home/carsonjm/CarsonJM/phide_piper/results/06_VIRUS_QUALITY/01_checkv/quality_summary.tsv'\n",
    "    , sep='\\t')\n",
    "\n",
    "virus_quality.loc[virus_quality['completeness'] > 90, 'high-quality'] = True\n",
    "virus_quality.loc[virus_quality['completeness'] > 50, 'medium-quality'] = True\n",
    "virus_quality.loc[virus_quality['completeness'].notnull(), 'low-quality'] = True\n",
    "virus_quality.loc[virus_quality['completeness'].isnull(), 'undetermined'] = True\n",
    "virus_quality.loc[(virus_quality['completeness'].isnull() | virus_quality['completeness'].notnull()), 'total'] = True\n",
    " \n",
    "vq_melt_qual = virus_quality.melt(id_vars='contig_id', value_vars=['high-quality', 'medium-quality', 'low-quality', 'undetermined', 'total'])\n",
    "vq_melt_qual2 = vq_melt_qual[vq_melt_qual['value'] == True]\n",
    "vq_grp_qual_rn = vq_melt_qual2.rename(columns={'variable':'quality'})\n",
    "vq_grp_qual_rn['quality'] = pd.Categorical(vq_grp_qual_rn['quality'], categories=['total', 'undetermined', 'low-quality', 'medium-quality', 'high-quality'], ordered = True)\n",
    "\n",
    "vq_plot = (\n",
    "    ggplot(vq_grp_qual_rn)\n",
    "    + geom_bar(aes(x='quality'))\n",
    "    + ylab(\"Number of putative viruses identified\")\n",
    "    + xlab(\"CheckV virus quality categories\")\n",
    ")\n",
    "\n",
    "vq_plot.save(str(snakemake.output), dpi=600)"
   ]
  }
 ],
 "metadata": {
  "kernelspec": {
   "display_name": "Python",
   "language": "python",
   "name": "python3"
  },
  "language_info": {
   "codemirror_mode": {
    "name": "ipython",
    "version": 3
   },
   "file_extension": ".py",
   "mimetype": "text/x-python",
   "name": "python",
   "nbconvert_exporter": "python",
   "pygments_lexer": "ipython3",
   "version": ""
  },
  "orig_nbformat": 4,
  "vscode": {
   "interpreter": {
    "hash": "25a19fbe0a9132dfb9279d48d161753c6352f8f9478c2e74383d340069b907c3"
   }
  }
 },
 "nbformat": 4,
 "nbformat_minor": 2
}
