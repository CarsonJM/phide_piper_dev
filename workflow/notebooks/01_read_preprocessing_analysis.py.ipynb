{
 "cells": [
  {
   "cell_type": "code",
   "execution_count": null,
   "metadata": {},
   "outputs": [],
   "source": [
    "import pandas as pd\n",
    "from plotnine import *\n",
    "\n",
    "# read kneaddata and clumpify read count data\n",
    "kneaddata_read_counts = pd.read_csv(str(snakemake.input.kneaddata), sep='\\t')\n",
    "clumpify_read_counts = pd.read_csv(str(snakemake.input.clumpify), sep='\\t')\n",
    "\n",
    "read_counts = clumpify_read_counts.merge(kneaddata_read_counts, on='Sample', how='right')\n",
    "read_counts.rename(columns={'raw pair1': 'deduplicated pair1', 'raw pair2': 'deduplicated pair2', 'raw reads':'raw pair1'}, inplace=True)\n",
    "\n",
    "# melt read counts data into a table for plotting\n",
    "read_counts_melt = read_counts.melt(id_vars=['Sample'], value_vars=['raw pair1', 'deduplicated pair1', 'trimmed pair1', 'decontaminated hg37dec_v0.1 pair1', 'final pair1', 'final orphan1', 'final orphan2'])\n",
    "read_counts_melt['variable'] = pd.Categorical(read_counts_melt['variable'], categories=['raw pair1', 'deduplicated pair1', 'trimmed pair1', 'decontaminated hg37dec_v0.1 pair1', 'final pair1', 'final orphan1', 'final orphan2'], ordered = True)\n",
    "\n",
    "# save combined read counts file\n",
    "read_counts.to_csv(str(snakemake.output.report), index=False)\n",
    "\n",
    "# plot read counts data\n",
    "read_counts_plot = (\n",
    "    ggplot(read_counts_melt)\n",
    "    + geom_boxplot(aes(x='variable', y='value'))\n",
    "    + theme(figure_size=(16, 8)) \n",
    "    + labs(title='Read counts at each preprocessing step')\n",
    "    + ylab(\"Read counts\")\n",
    "    + xlab(\"Preprocessing step\")\n",
    ")\n",
    "\n",
    "# save figure to file\n",
    "read_counts_plot.save(str(snakemake.output.figure), dpi=600)"
   ]
  }
 ],
 "metadata": {
  "interpreter": {
   "hash": "5b5d16e44d88e4922d84b5272441e775090877eee7799512346262eca3710381"
  },
  "kernelspec": {
   "display_name": "Python 3.9.7 64-bit ('base': conda)",
   "language": "python",
   "name": "python3"
  },
  "language_info": {
   "name": "python",
   "version": "3.9.7"
  },
  "orig_nbformat": 4
 },
 "nbformat": 4,
 "nbformat_minor": 2
}
