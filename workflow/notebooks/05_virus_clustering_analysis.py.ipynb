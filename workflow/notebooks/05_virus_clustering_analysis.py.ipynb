{
 "cells": [
  {
   "cell_type": "code",
   "execution_count": 5,
   "metadata": {},
   "outputs": [],
   "source": [
    "import pandas as pd\n",
    "from plotnine import *\n",
    "\n",
    "# open clustering results\n",
    "clusters = open(\n",
    "    str(snakemake.input.clusters)\n",
    "    # '/home/carsonjm/CarsonJM/phide_piper/results/05_VIRUS_CLUSTERING/03_cluster_viruses/virus_virusdb_combined_clusters.tsv'\n",
    "    , 'r')\n",
    "\n",
    "node_lengths = []\n",
    "for line in clusters:\n",
    "    stripped = line.strip()\n",
    "    centroid, nodes = stripped.split('\\t')\n",
    "    nodes_split = nodes.split(\",\")\n",
    "    node_lengths.append(len(nodes_split))\n",
    "\n",
    "cluster_df = pd.DataFrame()\n",
    "cluster_df['node_lengths'] = node_lengths\n",
    "\n",
    "cluster_size_plot = (\n",
    "    ggplot(cluster_df)\n",
    "    + geom_bar(aes(x='node_lengths'), position='identity')\n",
    "    + theme(figure_size=(16, 8)) \n",
    "    + labs(title='Distribution of cluster sizes')\n",
    "    + ylab(\"Number of clusters\")\n",
    "    + xlab(\"Number of sequences in a cluster\")\n",
    ")\n",
    "\n",
    "cluster_size_plot.save(str(snakemake.output), dpi=600)"
   ]
  }
 ],
 "metadata": {
  "kernelspec": {
   "display_name": "Python 3.9.12 ('base': conda)",
   "language": "python",
   "name": "python3"
  },
  "language_info": {
   "codemirror_mode": {
    "name": "ipython",
    "version": 3
   },
   "file_extension": ".py",
   "mimetype": "text/x-python",
   "name": "python",
   "nbconvert_exporter": "python",
   "pygments_lexer": "ipython3",
   "version": "3.9.12"
  },
  "orig_nbformat": 4,
  "vscode": {
   "interpreter": {
    "hash": "5b5d16e44d88e4922d84b5272441e775090877eee7799512346262eca3710381"
   }
  }
 },
 "nbformat": 4,
 "nbformat_minor": 2
}
