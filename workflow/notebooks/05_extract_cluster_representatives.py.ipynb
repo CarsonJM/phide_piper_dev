{
 "cells": [
  {
   "cell_type": "code",
   "execution_count": null,
   "metadata": {},
   "outputs": [],
   "source": [
    "import pandas as pd\n",
    "from Bio import SeqIO\n",
    "\n",
    "# open clustering results\n",
    "clusters = open(str(snakemake.input.clusters), 'r')\n",
    "\n",
    "votu_reps= []\n",
    "for line in clusters:\n",
    "    stripped = line.strip()\n",
    "    centroid, nodes = stripped.split('\\t')\n",
    "    votu_reps.append(centroid)\n",
    "\n",
    "# extract representative sequences from fasta file\n",
    "votu_rep_sequences = []\n",
    "for record in SeqIO.parse(str(snakemake.input.viruses), \"fasta\"):\n",
    "    if record.id in set(votu_reps):\n",
    "        votu_rep_sequences.append(record)\n",
    "        \n",
    "# save all sequences to specified file\n",
    "SeqIO.write(votu_rep_sequences, str(snakemake.output), \"fasta\")"
   ]
  }
 ],
 "metadata": {
  "language_info": {
   "name": "python"
  },
  "orig_nbformat": 4
 },
 "nbformat": 4,
 "nbformat_minor": 2
}
