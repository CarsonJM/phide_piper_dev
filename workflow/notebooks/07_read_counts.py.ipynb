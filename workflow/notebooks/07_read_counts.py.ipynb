{
 "cells": [
  {
   "cell_type": "code",
   "execution_count": null,
   "metadata": {},
   "outputs": [],
   "source": [
    "import pandas as pd \n",
    "\n",
    "read_counts = pd.read_csv(str(snakemake.input))\n",
    "\n",
    "read_counts[\"total_reads\"] = read_counts[\"final pair1\"] + read_counts[\"final pair2\"] + read_counts[\"final orphan1\"] + read_counts[\"final orphan2\"]\n",
    "\n",
    "read_counts_metapop = read_counts[['Sample', 'total_reads']]\n",
    "read_counts_metapop.to_csv(str(snakemake.output), sep='\\t', index=False)"
   ]
  }
 ],
 "metadata": {
  "language_info": {
   "name": "python"
  },
  "orig_nbformat": 4
 },
 "nbformat": 4,
 "nbformat_minor": 2
}
