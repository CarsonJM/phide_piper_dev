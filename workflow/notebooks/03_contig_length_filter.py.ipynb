{
 "cells": [
  {
   "cell_type": "code",
   "execution_count": null,
   "metadata": {},
   "outputs": [],
   "source": [
    "import os\n",
    "from Bio import SeqIO\n",
    "\n",
    "if not str(snakemake.input).endswith(\".fasta\"):\n",
    "    raise TypeError(\"Input contigs file must be in fasta format\")\n",
    "if not str(snakemake.output).endswith(\".fasta\"):\n",
    "    raise TypeError(\"Output contigs file must be in fasta format\")\n",
    "if not os.path.isfile(str(snakemake.input)):\n",
    "    raise TypeError(\"Input contigs file does not exist\")\n",
    "\n",
    "# create list to store filtered contigs\n",
    "long_contigs = []\n",
    "\n",
    "# read in the fasta\n",
    "for record in SeqIO.parse(str(snakemake.input), \"fasta\"):\n",
    "    # remove contigs shorter than min_len\n",
    "    if len(record.seq) >= snakemake.params.min_length:\n",
    "        # add sequences passing filter to list\n",
    "        long_contigs.append(record)\n",
    "\n",
    "# save saved sequences to specified file\n",
    "SeqIO.write(long_contigs, str(snakemake.output), \"fasta\")"
   ]
  }
 ],
 "metadata": {
  "language_info": {
   "name": "python"
  },
  "orig_nbformat": 4
 },
 "nbformat": 4,
 "nbformat_minor": 2
}
