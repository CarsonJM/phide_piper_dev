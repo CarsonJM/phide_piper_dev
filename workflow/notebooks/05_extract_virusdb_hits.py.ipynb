{
 "cells": [
  {
   "cell_type": "code",
   "execution_count": null,
   "metadata": {},
   "outputs": [],
   "source": [
    "import pandas as pd\n",
    "from Bio import SeqIO\n",
    "\n",
    "# open clustering results\n",
    "metapop =  pd.read_csv(str(snakemake.input.metapop) ,sep='\\t', header=None, index_col=False,\n",
    "                    names=['genome', 'num_pos_covered', 'breadth', 'tad'])\n",
    "metapop_filt = metapop[(metapop['num_pos_covered'] > snakemake.params.min_length) & (metapop[\"breadth\"] > snakemake.params.min_breadth)]\n",
    "\n",
    "metapop_hits = set(metapop_filt['genome'])\n",
    "\n",
    "# extract representative sequences from fasta file\n",
    "virusdb_hits = []\n",
    "for record in SeqIO.parse(str(snakemake.input.virusdb), \"fasta\"):\n",
    "    if record.id in metapop_hits:\n",
    "        virusdb_hits.append(record)\n",
    "        \n",
    "# save all sequences to specified file\n",
    "SeqIO.write(virusdb_hits, str(snakemake.output), \"fasta\")"
   ]
  }
 ],
 "metadata": {
  "language_info": {
   "name": "python"
  },
  "orig_nbformat": 4
 },
 "nbformat": 4,
 "nbformat_minor": 2
}
