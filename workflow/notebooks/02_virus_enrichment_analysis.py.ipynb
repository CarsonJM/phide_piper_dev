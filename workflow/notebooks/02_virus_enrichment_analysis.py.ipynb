{
 "cells": [
  {
   "cell_type": "code",
   "execution_count": null,
   "metadata": {},
   "outputs": [],
   "source": [
    "import pandas as pd\n",
    "from plotnine import *\n",
    "\n",
    "enrich_rep = pd.read_csv(str(snakemake.input), sep=\"\\t\")\n",
    "enrich_score = enrich_rep.melt(id_vars=['Sample'], value_vars=['total enrichmnet score'])\n",
    "\n",
    "enrich_score_plot = (\n",
    "    ggplot(enrich_score)\n",
    "    + geom_boxplot(aes(x='variable', y='value'))\n",
    ")\n",
    "\n",
    "enrich_score_plot.save(str(snakemake.output), dpi=600)"
   ]
  }
 ],
 "metadata": {
  "language_info": {
   "name": "python"
  },
  "orig_nbformat": 4
 },
 "nbformat": 4,
 "nbformat_minor": 2
}
