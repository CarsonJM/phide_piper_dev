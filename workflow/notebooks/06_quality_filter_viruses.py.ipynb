{
 "cells": [
  {
   "cell_type": "code",
   "execution_count": null,
   "metadata": {},
   "outputs": [],
   "source": [
    "import pandas as pd\n",
    "from Bio import SeqIO\n",
    "\n",
    "# load checkv results\n",
    "checkv_df = pd.read_csv(str(snakemake.input.checkv_results), sep=\"\\t\")\n",
    "\n",
    "# filter checkv results based on input\n",
    "if snakemake.params.min_completeness != '':\n",
    "    checkv_filtered = checkv_df[(checkv_df[\"completeness\"] >= snakemake.params.min_completeness)\n",
    "                                & (checkv_df[\"viral_genes\"] >= snakemake.params.min_viral_genes)\n",
    "                                & (checkv_df[\"host_genes\"] <= snakemake.params.max_bacterial_genes)]\n",
    "\n",
    "elif snakemake.params.min_completeness == '':\n",
    "    checkv_filtered = checkv_df[(checkv_df[\"viral_genes\"] >= snakemake.params.min_viral_genes)\n",
    "                                & (checkv_df[\"host_genes\"] <= snakemake.params.max_bacterial_genes)]\n",
    "\n",
    "filtered_contigs = set(checkv_filtered[\"contig_id\"])\n",
    "filtered_seqs = []\n",
    "\n",
    "# parse through and combine provirus sequences for each sample\n",
    "for record in SeqIO.parse(str(snakemake.input.checkv_proviruses), \"fasta\"):\n",
    "    record.id = record.id.rpartition('_')[0]\n",
    "    if record.id in filtered_contigs:\n",
    "        filtered_seqs.append(record)\n",
    "\n",
    "# parse through and combine virus sequences for each sample\n",
    "for record in SeqIO.parse(str(snakemake.input.checkv_viruses), \"fasta\"):\n",
    "    if record.id in filtered_contigs:\n",
    "        filtered_seqs.append(record)\n",
    "\n",
    "# save all sequences to specified file\n",
    "SeqIO.write(filtered_seqs, str(snakemake.output), \"fasta\")\n"
   ]
  }
 ],
 "metadata": {
  "language_info": {
   "name": "python"
  },
  "orig_nbformat": 4
 },
 "nbformat": 4,
 "nbformat_minor": 2
}
