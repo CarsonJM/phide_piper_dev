{
 "cells": [
  {
   "cell_type": "code",
   "execution_count": null,
   "metadata": {},
   "outputs": [],
   "source": [
    "import pandas as pd\n",
    "from Bio import SeqIO\n",
    "\n",
    "# load checkv results\n",
    "checkv_df = pd.read_csv(str(snakemake.input.checkv_results), sep=\"\\t\")\n",
    "\n",
    "# filter checkv results based on input:\n",
    "checkv_filtered = checkv_df[(checkv_df[\"completeness\"] >= snakemake.params.min_completeness)\n",
    "                            & (checkv_df[\"viral_genes\"] >= snakemake.params.min_viral_genes)\n",
    "                            & (checkv_df[\"host_genes\"] <= snakemake.params.min_bacterial_genes)]\n",
    "\n",
    "hq_viruses = set(checkv_filtered[\"contig_id\"])\n",
    "hq_virus_seqs = []\n",
    "\n",
    "# parse through and combine provirus sequences for each sample\n",
    "for record in SeqIO.parse(str(snakemake.input.checkv_proviruses), \"fasta\"):\n",
    "    record.id = record.id.rpartition('_')[0]\n",
    "    if record.id in hq_viruses:\n",
    "        hq_virus_seqs.append(record)\n",
    "\n",
    "# parse through and combine virus sequences for each sample\n",
    "for record in SeqIO.parse(str(snakemake.input.checkv_viruses), \"fasta\"):\n",
    "    if record.id in hq_viruses:\n",
    "        hq_virus_seqs.append(record)\n",
    "\n",
    "# save all sequences to specified file\n",
    "SeqIO.write(hq_virus_seqs, str(snakemake.output), \"fasta\")\n"
   ]
  }
 ],
 "metadata": {
  "kernelspec": {
   "display_name": "Python",
   "language": "python",
   "name": "python3"
  },
  "language_info": {
   "name": "python",
   "version": ""
  },
  "orig_nbformat": 4,
  "vscode": {
   "interpreter": {
    "hash": "25a19fbe0a9132dfb9279d48d161753c6352f8f9478c2e74383d340069b907c3"
   }
  }
 },
 "nbformat": 4,
 "nbformat_minor": 2
}
