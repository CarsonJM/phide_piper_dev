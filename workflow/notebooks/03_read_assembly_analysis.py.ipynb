{
 "cells": [
  {
   "cell_type": "code",
   "execution_count": null,
   "metadata": {},
   "outputs": [],
   "source": [
    "import pandas as pd\n",
    "from plotnine import *\n",
    "\n",
    "single = pd.read_csv(str(snakemake.input.single), sep='\\t')\n",
    "single_count = single.copy()\n",
    "single_len = single.copy()\n",
    "\n",
    "single_count.rename(columns = {'# contigs (>= 0 bp)':'0',\n",
    "'# contigs (>= 1000 bp)':'1000', \n",
    "'# contigs (>= 5000 bp)':'5000', \n",
    "'# contigs (>= 10000 bp)':'10000'},\n",
    "inplace = True)\n",
    "\n",
    "single_len.rename(columns = {'Total length (>= 0 bp)':'0', \n",
    "'Total length (>= 1000 bp)':'1000', \n",
    "'Total length (>= 5000 bp)':'5000', \n",
    "'Total length (>= 10000 bp)':'10000'},\n",
    "inplace = True)\n",
    "\n",
    "single_count_melt = single_count.melt(id_vars=['Assembly'], value_vars=['0', '1000', '5000', '10000'])\n",
    "single_len_melt = single_len.melt(id_vars=['Assembly'], value_vars=['0', '1000', '5000', '10000'])\n",
    "single_count_melt['variable'] = pd.Categorical(single_count_melt['variable'], categories=['0', '1000', '5000', '10000'], ordered = True)\n",
    "single_len_melt['variable'] = pd.Categorical(single_len_melt['variable'], categories=['0', '1000', '5000', '10000'], ordered = True)\n",
    "single_count_melt['type'] = \"Contig count\"\n",
    "single_len_melt['type'] = \"Combined contig length\"\n",
    "single_count_melt['assembly'] = \"Single run\"\n",
    "single_len_melt['assembly'] = \"Single run\"\n",
    "\n",
    "\n",
    "coassembly = pd.read_csv(str(snakemake.input.coassembly), sep='\\t')\n",
    "coassembly_count = single.copy()\n",
    "coassembly_len = single.copy()\n",
    "\n",
    "coassembly_count.rename(columns = {'# contigs (>= 0 bp)':'0',\n",
    "'# contigs (>= 1000 bp)':'1000', \n",
    "'# contigs (>= 5000 bp)':'5000', \n",
    "'# contigs (>= 10000 bp)':'10000'},\n",
    "inplace = True)\n",
    "\n",
    "coassembly_len.rename(columns = {'Total length (>= 0 bp)':'0', \n",
    "'Total length (>= 1000 bp)':'1000', \n",
    "'Total length (>= 5000 bp)':'5000', \n",
    "'Total length (>= 10000 bp)':'10000'},\n",
    "inplace = True)\n",
    "\n",
    "coassembly_count_melt = coassembly_count.melt(id_vars=['Assembly'], value_vars=['0', '1000', '5000', '10000'])\n",
    "coassembly_len_melt = coassembly_len.melt(id_vars=['Assembly'], value_vars=['0', '1000', '5000', '10000'])\n",
    "coassembly_count_melt['variable'] = pd.Categorical(coassembly_count_melt['variable'], categories=['0', '1000', '5000', '10000'], ordered = True)\n",
    "coassembly_len_melt['variable'] = pd.Categorical(coassembly_len_melt['variable'], categories=['0', '1000', '5000', '10000'], ordered = True)\n",
    "coassembly_count_melt['type'] = \"Contig count\"\n",
    "coassembly_len_melt['type'] = \"Combined contig length\"\n",
    "coassembly_count_melt['assembly'] = \"Coassembly\"\n",
    "coassembly_len_melt['assembly'] = \"Coassembly\"\n",
    "\n",
    "assembly_concat = pd.concat([single_count_melt, single_len_melt, coassembly_count_melt, coassembly_len_melt], axis=0)\n",
    "\n",
    "assembly_plot = (\n",
    "    ggplot(assembly_concat)\n",
    "    + geom_boxplot(aes(x='variable', y='value', fill='assembly'))\n",
    "    + xlab(\"Minimum contig length\")\n",
    "    + ylab(\"\")\n",
    "    + facet_wrap('type', dir='v', ncol=1, scales='free')\n",
    ")\n",
    "\n",
    "assembly_plot.save(str(snakemake.output), dpi=600)"
   ]
  }
 ],
 "metadata": {
  "kernelspec": {
   "display_name": "Python",
   "language": "python",
   "name": "python3"
  },
  "language_info": {
   "name": "python",
   "version": ""
  },
  "orig_nbformat": 4,
  "vscode": {
   "interpreter": {
    "hash": "25a19fbe0a9132dfb9279d48d161753c6352f8f9478c2e74383d340069b907c3"
   }
  }
 },
 "nbformat": 4,
 "nbformat_minor": 2
}
